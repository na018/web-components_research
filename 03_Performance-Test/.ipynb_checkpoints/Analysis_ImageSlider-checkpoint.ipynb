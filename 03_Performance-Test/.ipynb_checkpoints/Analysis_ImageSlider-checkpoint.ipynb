{
 "cells": [
  {
   "cell_type": "code",
   "execution_count": 1,
   "metadata": {},
   "outputs": [],
   "source": [
    "from __future__ import print_function\n",
    "\n",
    "import math\n",
    "\n",
    "from IPython import display\n",
    "from matplotlib import cm\n",
    "from matplotlib import gridspec\n",
    "from matplotlib import pyplot as plt\n",
    "import numpy as np\n",
    "import pandas as pd\n",
    "\n",
    "from selenium import webdriver\n",
    "from selenium.webdriver.common.keys import Keys\n",
    "import os\n",
    "import time\n",
    "\n",
    "pd.options.display.max_rows = 10\n",
    "pd.options.display.float_format = '{:.1f}'.format"
   ]
  },
  {
   "cell_type": "code",
   "execution_count": 2,
   "metadata": {},
   "outputs": [],
   "source": [
    "chromedriver = \"/usr/local/bin/chromedriver\"\n",
    "\n",
    "\n",
    "def check_performance(port=8000, sleep=2, page_calls=100,\n",
    "\t\t\t\t\t  foldername='00_web-component', \n",
    "\t\t\t\t\t  path='performance_test_result/00_image-slider'):\n",
    "\t\"\"\"opens the chrome browser multiple times \n",
    "        and saves the token contents from 'bodyRendering' into a bodyRender.json file\n",
    "\t    \n",
    "\tArgs:\n",
    "\t\tport: Number defining on which port of localhost the application is running on\n",
    "\t\tsleep: time in seconds before page reload\n",
    "\t\tpage_calls: amount of times the URL is requested\n",
    "\t\tfoldername: name of the folder, where to store the resulting JSON file\n",
    "\t\tpath: relative path to foldername\n",
    "\t\"\"\"\n",
    "    \n",
    "    # first we open a chrome browser window with the help of Selinium's webdriver\n",
    "    # we wait 30 miliseconds for the browser window to open\n",
    "\turl = 'http://127.0.0.1:' + str(port)\n",
    "\tdriver = webdriver.Chrome(chromedriver)\n",
    "\tdriver.implicitly_wait(100)\n",
    "\t\n",
    "    # in a loop we reload the page n times\n",
    "    # for making sure the page was rendered completely and the LocalStorage was filled \n",
    "        # we wait some seconds before the page refresh\n",
    "\tfor i in range(page_calls):\n",
    "\t\tdriver.get(url)\n",
    "\t\ttime.sleep(sleep)\n",
    "\t\n",
    "    # let's get the LocalStogage 'bodyRendering' token\n",
    "\tresult = driver.execute_script(\"return localStorage.getItem('bodyRendering')\")\n",
    "\t\n",
    "    # close the browser session\n",
    "\tdriver.quit()\n",
    "\t\n",
    "\tlocal_path = path\n",
    "\t\n",
    "\t#get current working directory\n",
    "\tpath = os.getcwd() + '/' + path + '/' + foldername\n",
    "\t\n",
    "    # write the resulting JSON file\n",
    "\tf = open(path + \"/BodyRendering.json\",\"w\")\n",
    "\tf.write(result)\n",
    "\tf.close()\n",
    "\tprint('🥳  🎉 🍾 Yay, successfully created \"'+ local_path + '/' + foldername + '/BodyRendering.json\"' )\n",
    "\t\n",
    "\t# return the mean value of our resulting performance array\n",
    "\treturn pd.read_json(result).mean()[0]\n",
    "\t\t\n",
    "\n"
   ]
  },
  {
   "cell_type": "code",
   "execution_count": 3,
   "metadata": {},
   "outputs": [],
   "source": [
    "chromedriver = \"/usr/local/bin/chromedriver\"\n",
    "\n",
    "\n",
    "def check_performance_new_boot(port=8000, sleep=2, page_calls=100,\n",
    "\t\t\t\t\t\t\t   foldername='00_web-component', \n",
    "\t\t\t\t\t\t\t   path='performance_test_result/00_image-slider'):\n",
    "\t\"\"\"opens chrome browser multiple times \n",
    "        and saves the token contents from 'bodyRendering' into a bodyRender.json file\n",
    "\t    \n",
    "\tArgs:\n",
    "\t\tport: Number defining on which port of localhost the application is running on\n",
    "\t\tsleep: time in seconds before page reload\n",
    "\t\tpage_calls: amount of times the URL is requested\n",
    "\t\tfoldername: name of the folder, where to store the resulting JSON file\n",
    "\t\tpath: relative path to foldername\n",
    "\t\"\"\"\n",
    "    \n",
    "\t# first we define the url of the application \n",
    "\t# and initialize our resulting performance array\n",
    "\turl = 'http://127.0.0.1:' + str(port)\n",
    "\tresult = []\n",
    "\t\n",
    "\t# in a loop we open and close the chrome browser and get the specified url\n",
    "\t# for making sure the page was rendered completely and the LocalStorage was filled \n",
    "\t\t# we wait some seconds before we add the single value in the LocalStorage array \n",
    "\t\t# to our resulting performance array\n",
    "\tfor i in range(page_calls):\n",
    "\t\tdriver = webdriver.Chrome(chromedriver)\n",
    "\t\tdriver.implicitly_wait(100)\n",
    "\t\tdriver.get(url)\n",
    "\t\ttime.sleep(sleep)\n",
    "\t\tresult.append(pd.read_json((\n",
    "            driver.execute_script(\"return localStorage.getItem('bodyRendering')\")\n",
    "        )).values[0][0])\n",
    "\n",
    "\t\tdriver.quit()\n",
    "\t\n",
    "\tlocal_path = path\n",
    "\t\n",
    "\t#get current working directory\n",
    "\tpath = os.getcwd() + '/' + path + '/' + foldername\n",
    "\t\n",
    "    # write the resulting JSON file\n",
    "\tf = open(path + \"/BodyRendering.json\",\"w\")\n",
    "\tf.write(str(result))\n",
    "\tf.close()\n",
    "\tprint('🥳  🎉 🍾 Yay, successfully created \"'+ local_path + '/' + foldername + '/BodyRendering.json\"' )\n",
    "\n",
    "\t\n",
    "    # return the mean value of our resulting performance array\n",
    "\treturn np.mean(result)\n",
    "\t\n",
    "\t\t\n",
    "\n"
   ]
  },
  {
   "cell_type": "code",
   "execution_count": 6,
   "metadata": {},
   "outputs": [
    {
     "name": "stdout",
     "output_type": "stream",
     "text": [
      "🥳  🎉 🍾 Yay, successfully created \"performance_test_result/00_image-slider/00_web-component/BodyRendering.json\"\n",
      "🥳  🎉 🍾 Yay, successfully created \"performance_test_result/00_image-slider/01-angular/BodyRendering.json\"\n",
      "🥳  🎉 🍾 Yay, successfully created \"performance_test_result/00_image-slider/02-polymer/BodyRendering.json\"\n",
      "🥳  🎉 🍾 Yay, successfully created \"performance_test_result/00_image-slider/03-vue/BodyRendering.json\"\n"
     ]
    },
    {
     "data": {
      "text/plain": [
       "[3099.6999999988475, 3156.3999999980297, 3017.0499999985623, 3036.550000002535]"
      ]
     },
     "execution_count": 6,
     "metadata": {},
     "output_type": "execute_result"
    }
   ],
   "source": [
    "foldernames = ['00_web-component',  \n",
    "               '01-angular', \n",
    "               '02-polymer', \n",
    "               '03-vue']\n",
    "\n",
    "[check_performance_new_boot(page_calls=2,sleep=5, foldername=foldernames[i], port=8000+i) for i in range(len(foldernames))]"
   ]
  },
  {
   "cell_type": "code",
   "execution_count": 7,
   "metadata": {},
   "outputs": [
    {
     "data": {
      "text/html": [
       "<div>\n",
       "<style scoped>\n",
       "    .dataframe tbody tr th:only-of-type {\n",
       "        vertical-align: middle;\n",
       "    }\n",
       "\n",
       "    .dataframe tbody tr th {\n",
       "        vertical-align: top;\n",
       "    }\n",
       "\n",
       "    .dataframe thead th {\n",
       "        text-align: right;\n",
       "    }\n",
       "</style>\n",
       "<table border=\"1\" class=\"dataframe\">\n",
       "  <thead>\n",
       "    <tr style=\"text-align: right;\">\n",
       "      <th></th>\n",
       "      <th>web_component</th>\n",
       "      <th>angular</th>\n",
       "      <th>polymer</th>\n",
       "      <th>vue</th>\n",
       "    </tr>\n",
       "  </thead>\n",
       "  <tbody>\n",
       "    <tr>\n",
       "      <th>count</th>\n",
       "      <td>2.0</td>\n",
       "      <td>2.0</td>\n",
       "      <td>2.0</td>\n",
       "      <td>2.0</td>\n",
       "    </tr>\n",
       "    <tr>\n",
       "      <th>mean</th>\n",
       "      <td>3099.7</td>\n",
       "      <td>3156.4</td>\n",
       "      <td>3017.0</td>\n",
       "      <td>3036.6</td>\n",
       "    </tr>\n",
       "    <tr>\n",
       "      <th>std</th>\n",
       "      <td>1.3</td>\n",
       "      <td>0.3</td>\n",
       "      <td>0.8</td>\n",
       "      <td>3.2</td>\n",
       "    </tr>\n",
       "    <tr>\n",
       "      <th>min</th>\n",
       "      <td>3098.8</td>\n",
       "      <td>3156.2</td>\n",
       "      <td>3016.5</td>\n",
       "      <td>3034.3</td>\n",
       "    </tr>\n",
       "    <tr>\n",
       "      <th>25%</th>\n",
       "      <td>3099.2</td>\n",
       "      <td>3156.3</td>\n",
       "      <td>3016.8</td>\n",
       "      <td>3035.4</td>\n",
       "    </tr>\n",
       "    <tr>\n",
       "      <th>50%</th>\n",
       "      <td>3099.7</td>\n",
       "      <td>3156.4</td>\n",
       "      <td>3017.0</td>\n",
       "      <td>3036.6</td>\n",
       "    </tr>\n",
       "    <tr>\n",
       "      <th>75%</th>\n",
       "      <td>3100.1</td>\n",
       "      <td>3156.5</td>\n",
       "      <td>3017.3</td>\n",
       "      <td>3037.7</td>\n",
       "    </tr>\n",
       "    <tr>\n",
       "      <th>max</th>\n",
       "      <td>3100.6</td>\n",
       "      <td>3156.6</td>\n",
       "      <td>3017.6</td>\n",
       "      <td>3038.8</td>\n",
       "    </tr>\n",
       "  </tbody>\n",
       "</table>\n",
       "</div>"
      ],
      "text/plain": [
       "       web_component  angular  polymer    vue\n",
       "count            2.0      2.0      2.0    2.0\n",
       "mean          3099.7   3156.4   3017.0 3036.6\n",
       "std              1.3      0.3      0.8    3.2\n",
       "min           3098.8   3156.2   3016.5 3034.3\n",
       "25%           3099.2   3156.3   3016.8 3035.4\n",
       "50%           3099.7   3156.4   3017.0 3036.6\n",
       "75%           3100.1   3156.5   3017.3 3037.7\n",
       "max           3100.6   3156.6   3017.6 3038.8"
      ]
     },
     "execution_count": 7,
     "metadata": {},
     "output_type": "execute_result"
    }
   ],
   "source": [
    "body_rendering_path = 'performance_test_result/00_image-slider/'\n",
    "\n",
    "# read the json files in with pandas\n",
    "web_component_dataframe = pd.read_json(body_rendering_path + '00_web-component/BodyRendering.json')\n",
    "angular_dataframe = pd.read_json(body_rendering_path + '01-angular/BodyRendering.json')\n",
    "polymer_dataframe = pd.read_json(body_rendering_path + '02-polymer/BodyRendering.json')\n",
    "vue_dataframe = pd.read_json(body_rendering_path + '03-vue/BodyRendering.json')\n",
    "\n",
    "# create a dataframe for the plain components and set the column names\n",
    "frames = [web_component_dataframe, angular_dataframe, polymer_dataframe, vue_dataframe]\n",
    "performance_columns = ['web_component', 'angular', 'polymer', 'vue']\n",
    "performance_dataframe = pd.concat(frames, axis=1, sort=False)\n",
    "performance_dataframe.columns = performance_columns\n",
    "\n",
    "\n",
    "\n",
    "performance_dataframe.describe()"
   ]
  },
  {
   "cell_type": "code",
   "execution_count": 8,
   "metadata": {},
   "outputs": [
    {
     "data": {
      "text/plain": [
       "<Figure size 432x288 with 0 Axes>"
      ]
     },
     "metadata": {},
     "output_type": "display_data"
    },
    {
     "data": {
      "image/png": "[encoded data removed]",
      "text/plain": [
       "<Figure size 1008x504 with 1 Axes>"
      ]
     },
     "metadata": {
      "needs_background": "light"
     },
     "output_type": "display_data"
    }
   ],
   "source": [
    "# figure for the web components created with the frameworks\n",
    "f = plt.figure()\n",
    "performance_dataframe.plot(kind='line',figsize=(14,7), title=\"Framework Analysis\",\n",
    "                                       grid=True,stacked = False)\n",
    "plt.legend(loc='center left', bbox_to_anchor=(1, 0.5))\n",
    "plt.ylabel(\"ms\")\n",
    "plt.xlabel(\"app call\")\n",
    "plt.show()"
   ]
  },
  {
   "cell_type": "code",
   "execution_count": null,
   "metadata": {},
   "outputs": [],
   "source": []
  }
 ],
 "metadata": {
  "kernelspec": {
   "display_name": "Python 3",
   "language": "python",
   "name": "python3"
  },
  "language_info": {
   "codemirror_mode": {
    "name": "ipython",
    "version": 3
   },
   "file_extension": ".py",
   "mimetype": "text/x-python",
   "name": "python",
   "nbconvert_exporter": "python",
   "pygments_lexer": "ipython3",
   "version": "3.6.8"
  }
 },
 "nbformat": 4,
 "nbformat_minor": 2
}
