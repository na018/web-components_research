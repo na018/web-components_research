{
 "cells": [
  {
   "cell_type": "markdown",
   "metadata": {
    "colab_type": "text",
    "id": "34oxM5uLOXDo"
   },
   "source": [
    "# Web Components\n",
    "Software Componentization is a common practice in Computer Science. Following the principles of component-based software development (CBD), the software system consists of encapsulated sets of code blocks, which are self-contained.\n",
    "\n",
    "This principle comes with the following advantages *(cf. [windriver](http://blogs.windriver.com/koning/2006/09/components.html), [Fu Cheng](https://learning.oreilly.com/library/view/build-mobile-apps/9781484237755/html/436854_2_En_3_Chapter.xhtml)):*  \n",
    "\n",
    "\n",
    "1.   **Reduction of complexity:** small units of self-contained code are easier understood and thus easier maintained\n",
    "2.   **Increasing Flexibility**: plugging in a new component which does not depend on the other modules or the danger of breaking the code is drastically reduced\n",
    "3.  **Product reliability:** reusable components have to meet well-defined specifications, which forces a mature design\n",
    "4.  **Shorten the time-to-market:** components are reused in new projects, which accelerates the development process and lowers cost\n",
    "5. **Increasing collaboration and separation of concerns**: the components can be shared across teams. Different expertized development teams can work on specific specialized topics in a more accurate  manner\n",
    "\n",
    "In contrast to other popular programming platforms such as Java, Ruby or Python, which all have their own component ecosystem, standardized, reusable components across all web sites can only rarely be found.\n",
    "\n",
    "Following the CBD principle on the web, the set of web platform APIs used are bundled in the [web components specification](https://www.webcomponents.org/introduction). These components work across modern browsers and can be used with any JavaScript library or Framework that works with HTML.\n",
    "\n",
    "The four main specifications include:\n",
    "\n",
    "1. **Custon Elements:** These elements extend HTML tags such as `<div><span><p>` with custom defined tags. They must contain a hyphon `<custom-element>`.\n",
    "2. **Shadow DOM:** This standard makes it possible to encapsulate HTML markup, styling and functionality.\n",
    "3. **ES Modules:** defines the reuse of modular JavaScript\n",
    "4. **HTML Template:** is the declaration of markup fragments, which only will be instantiated at runtime, not at pageload\n",
    "\n",
    "Across the web, today popular frameworks such as Angular, React or Vue are used, all having their own component models. However, different developers and teams prefer to work with different frameworks, the components can not be easily exchanged. Furthermore, the components are not naturally encapsulated or self-contained, which may result in large, complex and difficult manageable web applications.\n",
    "\n",
    "In this chapter the creation of web components is compared to the traditional creation of components on the web.  \n",
    "Furthermore, since following the specifications of the low level APIs from the web components specification is verbose, libraries and frameworks add consistency and aim to facilitate the development process.\n",
    "\n",
    "In this matter a close look will be put at the famous library Polymer, and the two frameworks Vue.js and Angular.\n",
    "\n",
    "In the first part of this analysis a simple Progress Bar component is analyzed, and in the second part a more complex Image Slider component will be investigated.\n",
    "\n"
   ]
  },
  {
   "cell_type": "markdown",
   "metadata": {
    "colab_type": "text",
    "id": "5ey7qIl2MWxz"
   },
   "source": [
    "## Project Structure\n",
    "The Project directory can be found on [Github](https://github.com/na018/web-components_research).\n",
    "![Folder Structure](../chapters/chapter1/img/FolderStructure_WC_performance.png)\n",
    "\n",
    "- **Webcomponents-Factory** contains the implemented component versions of the Progress Bar and Image Slider, which will be discussed in this chapter."
   ]
  },
  {
   "cell_type": "markdown",
   "metadata": {
    "colab_type": "text",
    "id": "ANekGBsmJGZ4"
   },
   "source": [
    "## Progress Bar\n",
    "This component is a simple horizontal bar, which indicates a certain complete level, by it's background color.  \n",
    "The component reflects one `complete` attribute as property, a number between zero and 100. Larger numbers will only change the representing number, but not the filling state. Same for lower numbers than zero.\n",
    "\n",
    "Two `div` elements represent the bar. The outer bar element serves as the container. The inner bar element represents the filling state and contains the text node with the number according to the complete attribute .\n",
    "\n",
    "Furthermore a CSS styling animation is applied to the Progress Bar.\n",
    "![Progress Bar](../chapters/chapter1/img/ProgressBar.png)\n",
    "\n"
   ]
  },
  {
   "cell_type": "markdown",
   "metadata": {
    "colab_type": "text",
    "id": "74I5x7_cwelx"
   },
   "source": [
    "### From the Traditional Component to the Web Component"
   ]
  },
  {
   "cell_type": "markdown",
   "metadata": {
    "colab_type": "text",
    "id": "hWejiJ5QWgIW"
   },
   "source": [
    "#### Taditional JavaScript component with global styling\n",
    "In this section the creation process of a JavaScript class is explained. Since the introduction of ECMAScript 2015, classes are \"syntactical sugar\" over JavaScript's existing prototype-based inheritance \n",
    "*[(cf. MDN)](https://developer.mozilla.org/en-US/docs/Web/JavaScript/Reference/Classes).*"
   ]
  },
  {
   "cell_type": "markdown",
   "metadata": {
    "colab_type": "text",
    "id": "qhkl_ZPTWlTg"
   },
   "source": [
    "##### Implementation of the JavaScript Class\n",
    "The `ProgressBar` class has one property `complete` which is encapsulated in a `getter()` and `setter()` function.\n",
    "\n",
    "The class constructor declares all necessary properties for the component.  \n",
    "\n",
    "- The private `_complete` property, which is either 0 or the reflected attribute\n",
    "- The `_parentNode`, which is the element hosting the Progress Bar component\n",
    "- The `_bar` and `_barInner` `div`  elements\n",
    "\n",
    "After the properties are declared, the `renderTemplate()` function is called.\n"
   ]
  },
  {
   "cell_type": "markdown",
   "metadata": {
    "colab_type": "text",
    "id": "CkYIMuY2ZT1X"
   },
   "source": [
    "progress-bar-plain.js\n",
    "\n",
    "---\n",
    "\n",
    "```javascript\n",
    "class ProgressBar {\n",
    "    constructor(parentNode, complete) {\n",
    "        this._complete = complete || 0;\n",
    "        this._parentNode = parentNode;\n",
    "        this._bar = document.createElement('div');\n",
    "        this._barInner = document.createElement('div');\n",
    "\n",
    "        this.renderTemplate();\n",
    "    }\n",
    "    /**\n",
    "    *\n",
    "    **/\n",
    "}\n",
    "```\n",
    "\n"
   ]
  },
  {
   "cell_type": "markdown",
   "metadata": {
    "colab_type": "text",
    "id": "AAS3dfHVZlo-"
   },
   "source": [
    "The `renderTemplate()` function sets the classes of the two `div` elements, which is important for applying the styles later.\n",
    "The width of the inner bar element is applied, and the number indicating the level of completeness is added as a text node.\n",
    "Additionally a CSS animation is added to the inner bar element.\n",
    "\n",
    "The inner bar is appended to the main bar element and then to the parent node, which hosts the Progress Bar component.\n"
   ]
  },
  {
   "cell_type": "markdown",
   "metadata": {
    "colab_type": "text",
    "id": "_PY1_EN1aang"
   },
   "source": [
    "progress-bar-plain.js\n",
    "\n",
    "---\n",
    "\n",
    "```javascript\n",
    "class ProgressBar {\n",
    "    /**\n",
    "    * \n",
    "    **/\n",
    "    renderTemplate() {\n",
    "        this._barInner.classList.add('progress-bar-inner');\n",
    "        this._barInner.textContent = this._complete + '%';\n",
    "        this._barInner.style.width = this._complete + '%';\n",
    "        this._barInner.style.animationDelay = Math.random() + 's';\n",
    "\n",
    "        this._bar.classList.add('progress-bar');\n",
    "        this._bar.appendChild(this._barInner)\n",
    "        this._parentNode.appendChild(this._bar)\n",
    "    }\n",
    "}\n",
    "```\n",
    "\n"
   ]
  },
  {
   "cell_type": "markdown",
   "metadata": {
    "colab_type": "text",
    "id": "qApO5OV4bOQE"
   },
   "source": [
    "The `complete` property is encapsulated with a `getter()` and  `setter()` function.  \n",
    "If the `complete` property is changed, the width and text node of the inner bar element is updated.  \n",
    "The getter returns the private `_complete` class property."
   ]
  },
  {
   "cell_type": "markdown",
   "metadata": {
    "colab_type": "text",
    "id": "6eZ0q5e5bt6r"
   },
   "source": [
    "progress-bar-plain.js\n",
    "\n",
    "---\n",
    "\n",
    "\n",
    "\n",
    "```javascript\n",
    "class ProgressBar {\n",
    "    /**\n",
    "    * \n",
    "    **/\n",
    "    get complete() {\n",
    "        return this._complete;\n",
    "    }\n",
    "\n",
    "    set complete(val) {\n",
    "        this._complete = val;\n",
    "        this._barInner.style.width = this._complete + '%';\n",
    "        this._barInner.textContent = this._complete + '%';\n",
    "    }\n",
    "}\n",
    "```\n",
    "\n"
   ]
  },
  {
   "cell_type": "markdown",
   "metadata": {
    "colab_type": "text",
    "id": "GG95qmF0lItm"
   },
   "source": [
    "##### Definition of the Global Styling in an External Styleshees\n",
    "In an external stylesheet `style.css` the styling according to the predefined classes `progress-bar` and `progress-bar-inner` is defined.  \n",
    "Furthermore, a `Gradient` CSS keyframe animation is added."
   ]
  },
  {
   "cell_type": "markdown",
   "metadata": {
    "colab_type": "text",
    "id": "H7PKVTgqlsPW"
   },
   "source": [
    "<a name=\"style-css\">style.css</a>\n",
    "\n",
    "---\n",
    "\n",
    "\n",
    "\n",
    "```css\n",
    ".progress-bar {\n",
    "    width: 100%;\n",
    "    height: 30px;\n",
    "    background-color: white;\n",
    "    border-radius: 5px;\n",
    "    box-shadow: 0 1px 3px black;\n",
    "    color: #FFF;\n",
    "}\n",
    "\n",
    ".progress-bar-inner {\n",
    "    height: 100%;\n",
    "    line-height: 30px;\n",
    "    background: linear-gradient(217deg, rgba(0, 217, 39, 0.8), rgba(0, 255, 0, 0) 70.71%),\n",
    "    linear-gradient(127deg, rgba(156, 17, 255, 0.8), rgba(255, 0, 0, 0) 70.71%),\n",
    "    linear-gradient(336deg, rgba(0, 0, 255, .8), rgba(0, 0, 255, 0) 70.71%);\n",
    "    background-size: 400% 400%;\n",
    "    -webkit-animation: Gradient 1.6s ease infinite;\n",
    "    -moz-animation: Gradient 2s ease infinite;\n",
    "    animation: Gradient 1.9s ease infinite;\n",
    "    animation-iteration-count: 2;\n",
    "    text-align: center;\n",
    "    border-radius: 5px;\n",
    "    transition: width 0.25s;\n",
    "    max-width: 100%;\n",
    "}\n",
    "\n",
    "@keyframes Gradient {\n",
    "    0% {\n",
    "        background-position: 0% 50%\n",
    "    }\n",
    "    50% {\n",
    "        background-position: 100% 50%\n",
    "    }\n",
    "    100% {\n",
    "        background-position: 0% 50%\n",
    "    }\n",
    "}\n",
    "\n",
    "```\n",
    "\n"
   ]
  },
  {
   "cell_type": "markdown",
   "metadata": {
    "colab_type": "text",
    "id": "H8f16HL2k0on"
   },
   "source": [
    "##### Integration of the JavaScript Class and Styling into a HTML Web Page\n",
    "The HTML page links the external styling and includes the script for the `ProgressBar` class."
   ]
  },
  {
   "cell_type": "markdown",
   "metadata": {
    "colab_type": "text",
    "id": "Rdx8SLnfmYZd"
   },
   "source": [
    "index.html\n",
    "\n",
    "---\n",
    "\n",
    "\n",
    "```xml\n",
    "<html lang=\"en\">\n",
    "<head>\n",
    "   <link rel=\"stylesheet\" type=\"text/css\" href=\"static/style.css\">\n",
    "</head>\n",
    "<body>\n",
    "    <!-- ... -->\n",
    "    <script src=\"static/progress-bar-plain.js\"></script>\n",
    "</body>\n",
    "</html>\n",
    "  ```"
   ]
  },
  {
   "cell_type": "markdown",
   "metadata": {
    "colab_type": "text",
    "id": "DAN2mkUFmzQn"
   },
   "source": [
    "A `div` element serves as the host element of the Progress Bar.  \n",
    "In the following the JavaScript class gets the host element and renders the Progress Bar inside of it."
   ]
  },
  {
   "cell_type": "markdown",
   "metadata": {
    "colab_type": "text",
    "id": "Ldo3v3ZVnmEz"
   },
   "source": [
    "index.html\n",
    "\n",
    "---\n",
    "```xml\n",
    "<body>\n",
    "    <!-- ... -->\n",
    "    <div id=\"progress-bar-1\" class=\"pa-1\"></div>\n",
    "    <div id=\"progress-bar-2\" class=\"pa-1\"></div>\n",
    "    <script src=\"static/progress-bar-plain.js\"></script>\n",
    "    <script>\n",
    "  ```\n",
    "  ```javascript\n",
    "    (function () {\n",
    "      // the default complete status of 0 will be set\n",
    "        const bar_1 = new ProgressBar(document.querySelector('#progress-bar-1'));\n",
    "      // the complete status is 10%\n",
    "        new ProgressBar(document.querySelector('#progress-bar-2'), 10);\n",
    "    })()\n",
    "```\n",
    "```\n",
    "    </script>\n",
    "</body>\n",
    "```"
   ]
  },
  {
   "cell_type": "markdown",
   "metadata": {
    "colab_type": "text",
    "id": "RA-bA0nto3pw"
   },
   "source": [
    "The next section demonstrates a `complete` property change of the Progress Bar. Within an interval function the `complete` property will be increased by 106 percent every 100 milliseconds. This adds a smooth animation to the component."
   ]
  },
  {
   "cell_type": "markdown",
   "metadata": {
    "colab_type": "text",
    "id": "YznBdOIRptxE"
   },
   "source": [
    "  index.html\n",
    "\n",
    "---\n",
    "  ```javascript\n",
    "(function () {\n",
    "    const bar_1 = new ProgressBar(document.querySelector('#progress-bar-1'));\n",
    "    new ProgressBar(document.querySelector('#progress-bar-2'), 10);\n",
    "    let complete = 5;\n",
    "\n",
    "    let progressInterval = setInterval(() => {\n",
    "        complete = parseFloat((complete + 1) * 1.06).toFixed(1);\n",
    "        if (complete <= 90) {\n",
    "            bar_1.complete = complete;\n",
    "        } else {\n",
    "            bar_1.complete = 90\n",
    "            clearInterval(progressInterval);\n",
    "        }\n",
    "    }, 100);\n",
    "})()\n",
    "```"
   ]
  },
  {
   "cell_type": "markdown",
   "metadata": {
    "colab_type": "text",
    "id": "vozsYIuNqDgi"
   },
   "source": [
    "##### Summary\n",
    "This section explained the generation of a JavaScript class, which renders HTML nodes including classes, a property and styling to a hosting HTML element. \n",
    "\n",
    "Furthermore, an external stylesheet was combined with the rendered HTML.\n",
    "\n",
    "However, this programming style for components is not encapsulated. Additionally to the JavaScript class, the external style has to be linked, otherwise the component would not work in it's supposed way.\n",
    "\n",
    "The styling of the bar component may easily be overwritten by other CSS styles, which is a huge problem for todays web applications, since they often consist of large and complex architectures."
   ]
  },
  {
   "cell_type": "markdown",
   "metadata": {
    "colab_type": "text",
    "id": "nPbU-AKeJNzx"
   },
   "source": [
    "#### JavaScript component with inline styling\n",
    "This section resembles the previous one a lot. The only difference is that the styling will not be added via an external stylesheet, but with inline styling. This reduces the dependency of the included external styling.\n"
   ]
  },
  {
   "cell_type": "markdown",
   "metadata": {
    "colab_type": "text",
    "id": "BVTGHk-CycL5"
   },
   "source": [
    "##### Adjustment of the JavaScript class from the Traditional Component\n",
    "The only adoption is in the `renderTemplate()` function. \n",
    "Here the style attribute is set for the `_bar` and `_innerBar` element.\n",
    "\n",
    "Adding the keyframe animation however is not that easy. It must be included with the static `insertStyleSheetRule` function, which appends the animation once to the header section of the page as a style node."
   ]
  },
  {
   "cell_type": "markdown",
   "metadata": {
    "colab_type": "text",
    "id": "8IMEo6jlxadC"
   },
   "source": [
    "progresss-bar-plain.js\n",
    "\n",
    "---\n",
    "\n",
    "```javascript\n",
    " renderTemplate() {\n",
    "        this._bar.classList.add('progress-bar');\n",
    "        this._barInner.classList.add('progress-bar-inner');\n",
    "        this._barInner.textContent = this._complete + '%';\n",
    "\n",
    "        this._bar.appendChild(this._barInner)\n",
    "        this._parentNode.appendChild(this._bar)\n",
    "\n",
    "        this._bar.setAttribute('style', `\n",
    "```\n",
    "\n",
    "```css\n",
    "         width: 100%;\n",
    "                height: 30px;\n",
    "                background-color: white;\n",
    "                border-radius: 5px;\n",
    "                box-shadow: 0 1px 3px black;\n",
    "                color: #FFF;\n",
    "```\n",
    "\n",
    "```\n",
    "        `);\n",
    "\n",
    "        this._barInner.setAttribute('style', `\n",
    "```\n",
    "\n",
    "```css\n",
    "                height: 100%;\n",
    "                line-height: 30px;\n",
    "                background: linear-gradient(217deg, rgba(0,217,39,0.8), rgba(0,255,0,0) 70.71%),\n",
    "                            linear-gradient(127deg, rgba(156,17,255,0.8), rgba(255,0,0,0) 70.71%),\n",
    "                            linear-gradient(336deg, rgba(0,0,255,.8), rgba(0,0,255,0) 70.71%);\n",
    "                            background-size: 400% 400%;\n",
    "                -webkit-animation: GradientProgressBar 1.6s ease infinite;\n",
    "\t            -moz-animation: GradientProgressBar 2s ease infinite;\n",
    "                animation: GradientProgressBar 1.9s ease infinite;\n",
    "                animation-iteration-count: 4;\n",
    "                text-align: center;\n",
    "                border-radius: 5px;\n",
    "                transition: width 0.25s;\n",
    "                max-width: 100%;\n",
    "                width: ${this._complete}%;\n",
    "```\n",
    "\n",
    "        `);\n",
    "```javascript\n",
    "\n",
    "        this._barInner.style.animationDelay = Math.random() + 's';\n",
    "\n",
    "        // append global styling, keyframes cant be added to element\n",
    "        ProgressBar.insertStyleSheetRule(\n",
    "            `@keyframes GradientProgressBar {\n",
    "                    0% {\n",
    "                        background-position: 0% 50%\n",
    "                     }\n",
    "                    50% {\n",
    "                        background-position: 100% 50%\n",
    "                     }\n",
    "                    100% {\n",
    "                         background-position: 0% 50%\n",
    "                     }\n",
    "             }`\n",
    "        )\n",
    "    }\n",
    "\n",
    "    static insertStyleSheetRule(ruleText) {\n",
    "        let sheets = document.styleSheets;\n",
    "\n",
    "        if (sheets.length === 0) {\n",
    "            let style = document.createElement('style');\n",
    "            style.appendChild(document.createTextNode(\"\"));\n",
    "            document.head.appendChild(style);\n",
    "        }\n",
    "\n",
    "        let sheet = sheets[sheets.length - 1];\n",
    "        sheet.insertRule(ruleText, sheet.rules ? sheet.rules.length : sheet.cssRules.length)\n",
    "    }\n",
    "```\n",
    "\n"
   ]
  },
  {
   "cell_type": "markdown",
   "metadata": {
    "colab_type": "text",
    "id": "SAlcsYkYxo7w"
   },
   "source": [
    "In the `index.html` file no external stylesheet has to be linked for the Progress Bar to work as expected."
   ]
  },
  {
   "cell_type": "markdown",
   "metadata": {
    "colab_type": "text",
    "id": "rRbeQX0Oygr1"
   },
   "source": [
    "#####  Summary\n",
    "This section explained, which adjustments had to be made to the `renderTemplate()` function from the previous traditional component class, for inline binding the styles.\n",
    "\n",
    "The advantage of the JavaScript component compared to the traditional component is that only a JavaScript file containing the class must be included in the HTML file.\n",
    "However, the severe problem of styles, that can be overwritten, and the element be easily manipulated by accident, still exists."
   ]
  },
  {
   "cell_type": "markdown",
   "metadata": {
    "colab_type": "text",
    "id": "XFPoxRsaJU_p"
   },
   "source": [
    "#### Web Component\n",
    "The creation process of Web Components including best practices is very well described by [MDN web docs](https://developer.mozilla.org/en-US/docs/Web/Web_Components) and the [Google developer Web Fundamentals](https://developers.google.com/web/fundamentals/web-components/).\n",
    "\n",
    "This section will focus on the creation of a Progress Bar web component."
   ]
  },
  {
   "cell_type": "markdown",
   "metadata": {
    "colab_type": "text",
    "id": "oU186Gpc81K9"
   },
   "source": [
    "##### Implementation of the Progress Bar Web Component\n",
    "\n",
    "For creating a web component first a custom element must be defined with the help of the `window.customElements.define('progress-bar', ProgressBar)` function.\n",
    "\n",
    "This function accepts a DOMString, which represents the name of the tag, that can be used in the HTML for referencing the web component. This String must contain a hyphen for the HTML parser to accept this component as a custom defined one.\n",
    "The second parameter is a class, which defines the behavior of the component. It must extend the base HTMLElement. "
   ]
  },
  {
   "cell_type": "markdown",
   "metadata": {
    "colab_type": "text",
    "id": "EB6Tumkr_51p"
   },
   "source": [
    "\n",
    "\n",
    "```javascript\n",
    "class ProgressBar extends HTMLElement {\n",
    "    constructor() {\n",
    "        super();\n",
    "    }\n",
    "}\n",
    "window.customElements.define('progress-bar', ProgressBar);\n",
    "```\n",
    "\n"
   ]
  },
  {
   "cell_type": "markdown",
   "metadata": {
    "colab_type": "text",
    "id": "XygeSpYrAHX5"
   },
   "source": [
    "This time a `shadow` element is appended to the hosting HTML element, which encapsulates the Web Component.\n",
    "\n",
    "The complete property is equally defined as in the previous components and the `renderTemplate()` function is called. \n",
    "\n",
    "The renderTemplate() function differs from the previous one. It modifies the inner HTML of the shadowed template as a template string.  \n",
    "This allows to easily put in a `<style>` tag with the encapsulated styling and the HTML nodes, without the JavaScript syntax."
   ]
  },
  {
   "cell_type": "markdown",
   "metadata": {
    "colab_type": "text",
    "id": "OapHm6fQCCH_"
   },
   "source": [
    "\n",
    "\n",
    "```javascript\n",
    "class ProgressBar extends HTMLElement {\n",
    "    constructor() {\n",
    "        super();\n",
    "\n",
    "        this._shadow = this.attachShadow({mode: \"open\"});\n",
    "        this._complete = 0;\n",
    "\n",
    "        this.renderTemplate();\n",
    "        this._innerBar = this._shadow.querySelector('.progress-bar-inner');\n",
    "    }\n",
    "\n",
    "    get complete() {\n",
    "        return this._complete;\n",
    "    }\n",
    "\n",
    "    set complete(val) {\n",
    "        this._complete = val;\n",
    "        this.setAttribute('complete', val);\n",
    "    }\n",
    "\n",
    "    renderTemplate() {\n",
    "        this._shadow.innerHTML = `\n",
    "        <style>\n",
    "```\n",
    "```css\n",
    "            .progress-bar {\n",
    "                width: 100%;\n",
    "                height: 30px;\n",
    "                background-color: white;\n",
    "                border-radius: 5px;\n",
    "                box-shadow: 0 1px 3px black;\n",
    "                color: #FFF;\n",
    "            }\n",
    "            .progress-bar-inner {\n",
    "                height: 100%;\n",
    "                line-height: 30px;\n",
    "                background: linear-gradient(217deg, rgba(0,217,39,0.8), rgba(0,255,0,0) 70.71%),\n",
    "                            linear-gradient(127deg, rgba(156,17,255,0.8), rgba(255,0,0,0) 70.71%),\n",
    "                            linear-gradient(336deg, rgba(0,0,255,.8), rgba(0,0,255,0) 70.71%);\n",
    "                            background-size: 400% 400%;\n",
    "                -webkit-animation: Gradient 1.6s ease infinite;\n",
    "\t            -moz-animation: Gradient 2s ease infinite;\n",
    "                animation: Gradient 1.9s ease infinite;\n",
    "                animation-iteration-count: 2;\n",
    "                text-align: center;\n",
    "                border-radius: 5px;\n",
    "                transition: width 0.25s;\n",
    "                max-width: 100%;\n",
    "            }\n",
    "            @keyframes Gradient {\n",
    "\t            0% {\n",
    "\t\t            background-position: 0% 50%\n",
    "            \t}\n",
    "               \t50% {\n",
    "\t            \tbackground-position: 100% 50%\n",
    "            \t}\n",
    "\t            100% {\n",
    "\t            \tbackground-position: 0% 50%\n",
    "\t            }\n",
    "\t        }\n",
    "\n",
    "        </style>\n",
    "        <div class=\"progress-bar\">\n",
    "            <div class=\"progress-bar-inner\" style=\"width: ${complete}%\">${this.complete}%</div>\n",
    "        </div>\n",
    "        `;\n",
    "    }\n",
    "\n",
    "}\n",
    "```\n",
    "\n"
   ]
  },
  {
   "cell_type": "markdown",
   "metadata": {
    "colab_type": "text",
    "id": "MlQtNQuZCWlF"
   },
   "source": [
    "The `observedAttributes()` function tells the web component, to which attributes of the hosting component, the web component should reflect to.\n",
    "These attributes can be set inside an array.\n",
    "\n",
    "The lifecycle function ` attributeChangedCallback(name, oldVal, newVal)` is called, if an observed attribute changes.  \n",
    "Here the width of the `_innerBar` and the text Node indicating the complete status as a percentage is adjusted."
   ]
  },
  {
   "cell_type": "markdown",
   "metadata": {
    "colab_type": "text",
    "id": "ksrC_2s1Dj_M"
   },
   "source": [
    "\n",
    "\n",
    "```javascript\n",
    "    static get observedAttributes() {\n",
    "        return ['complete'];\n",
    "    }\n",
    "\n",
    "    attributeChangedCallback(name, oldVal, newVal) {\n",
    "        switch (name) {\n",
    "            case 'complete':\n",
    "                this._complete = parseInt(newVal, 10) || 0;\n",
    "                this._innerBar.style.width = this._complete + '%';\n",
    "                this._innerBar.innerHTML = this._complete + '%';\n",
    "        }\n",
    "    }\n",
    "```\n",
    "\n"
   ]
  },
  {
   "cell_type": "markdown",
   "metadata": {
    "colab_type": "text",
    "id": "VJkLjvqiD2qW"
   },
   "source": [
    "##### Integration of the Web Component into the HTML Web Page\n",
    "Here the custom element `<progress-bar>` can be directly used and the complete attribute easily be applied."
   ]
  },
  {
   "cell_type": "markdown",
   "metadata": {
    "colab_type": "text",
    "id": "FmwXILgLxL6F"
   },
   "source": [
    "index.html\n",
    "\n",
    "---\n",
    "\n",
    "\n",
    "```xml\n",
    "<html lang=\"en\">\n",
    "<head>\n",
    "   <link rel=\"stylesheet\" type=\"text/css\" href=\"static/style.css\">\n",
    "</head>\n",
    "<body>\n",
    "    <!-- ... -->\n",
    "    <progress-bar id=\"progress-bar-1\"></progress-bar>\n",
    "    <progress-bar id=\"progress-bar-2\" complete=\"90\"></progress-bar>\n",
    "    <script src=\"static/progress-bar.js\"></script>\n",
    "</body>\n",
    "</html>\n",
    "  ```"
   ]
  },
  {
   "cell_type": "markdown",
   "metadata": {
    "colab_type": "text",
    "id": "U6pU1pjDyJgy"
   },
   "source": [
    "The animation from the previous components can be equally applied."
   ]
  },
  {
   "cell_type": "markdown",
   "metadata": {
    "colab_type": "text",
    "id": "83ftscpuyKeV"
   },
   "source": [
    "index.html\n",
    "\n",
    "---\n",
    "```javascript\n",
    "    (function(){\n",
    "        const bar_1 = document.querySelector('#progress-bar-1');\n",
    "\n",
    "\n",
    "        let complete = 5;\n",
    "\n",
    "        let progressInterval = setInterval(() => {\n",
    "            complete = parseFloat((complete + 1) * 1.06).toFixed(1);\n",
    "\n",
    "            if (complete <= 90) {\n",
    "                bar_1.setAttribute('complete', complete)\n",
    "            } else {\n",
    "                bar_1.setAttribute('complete', 90)\n",
    "                clearInterval(progressInterval);\n",
    "            }\n",
    "        }, 100);\n",
    "    })()\n",
    "```"
   ]
  },
  {
   "cell_type": "markdown",
   "metadata": {
    "colab_type": "text",
    "id": "ykgEfabrERNd"
   },
   "source": [
    "##### Summary\n",
    "This section explained how to create the Progress Bar as web component. It came with a brief introduction on how to create Web Components following the standard specifications of the *[W3C](https://github.com/w3c/webcomponents).*\n",
    "\n",
    "The custom element `<progress-bar>` could be easily plugged into the HTML DOM and then was working out of the box with only referencing the JavaScript file.  \n",
    "No additional script was needed as with the other two components.  \n",
    "\n",
    "Another advantage is the encapsulation. Outside CSS or JavaScript will not affect the appearance or functionality of the component.  \n",
    "This is a great advantage of web components."
   ]
  },
  {
   "cell_type": "markdown",
   "metadata": {
    "colab_type": "text",
    "id": "4dItX6Xvy-Kt"
   },
   "source": [
    "### Frameworks and Libraries for Web Components\n",
    "Frameworks and libraries try to facilitate the process of creating Web Components.  \n",
    "In the following a close look will be put at Angular, Vue.js and Polymer."
   ]
  },
  {
   "cell_type": "markdown",
   "metadata": {
    "colab_type": "text",
    "id": "hE5Hz8JDzZA0"
   },
   "source": [
    "#### Angular\n",
    "Angular is a popular framework developed and maintained by Google.  \n",
    "In the following sections the steps are explained on how to create a Web Component with Angular in version 7."
   ]
  },
  {
   "cell_type": "markdown",
   "metadata": {
    "colab_type": "text",
    "id": "V3ffKYbR1DOX"
   },
   "source": [
    "##### Project Configuration \n",
    "First a new project must be created and dependencies adjusted:  \n",
    "- `ng new progress-bar && cd progress-bar`\n",
    "-  `ng add @angular/elements`\n",
    "-  `npm i document-register-element@>=1.8.1`\n",
    "\n",
    "Furthermore the configuration in `tsconfig.json` has to be adjusted. The target must be changed to `\"es2015\"` for preventing errors when building the project.\n",
    "\n",
    "The initial web component can be created running the following command:\n",
    "\n",
    "- `ng g component progress-bar --inline-style --inline-template -v Native`\n",
    "\n",
    "The component can be tested during development by putting the component selector `<progress-bar>` in the main app template and running the command:  \n",
    "- `ng serve``\n",
    "\n",
    "For the creation of a Web Component the `app.module.ts` must be adjusted:  \n",
    "  \n",
    "- In the @NgModule it the component must be set as entryComponent: `entryComponents:[ProgressBarComponent],`\n",
    "- the custom element must be defined in the App constructor:\n",
    "\n",
    "  ````javascript\n",
    "export class AppModule {\n",
    "    constructor(private injector: Injector) {}\n",
    "    ngDoBootstrap() {\n",
    "      const progressBar = createCustomElement(ProgressBarComponent, { injector: this.injector  });\n",
    "      customElements.define('progress-bar', progressBar);\n",
    "    }\n",
    "}\n",
    "  ````\n",
    "  \n",
    "The build script in `package.json` has to be changed to the following:\n",
    "\n",
    "```json   \n",
    "\"build\": \"ng build --prod --output-hashing=none\",\n",
    "\"package\": \"cat dist/progress-bar/{runtime,polyfills,scripts,main}.js | gzip > progress-bar.js.gz\",\n",
    "\"serve\": \"node dist/progress-bar/server.js\",\n",
    "```\n",
    "\n",
    "For building the component the command `` has to be run *([cf. medium](https://medium.freecodecamp.org/how-to-create-angular-6-custom-elements-web-components-c88814dc6e0a)\n",
    "  )*."
   ]
  },
  {
   "cell_type": "markdown",
   "metadata": {
    "colab_type": "text",
    "id": "MwIU_IEC5TFt"
   },
   "source": [
    "After the configuration the file progress-bar/src/app/progress-bar/progress-bar.component.ts is created into which the implementation of the Web Component will be written."
   ]
  },
  {
   "cell_type": "markdown",
   "metadata": {
    "colab_type": "text",
    "id": "O9IF7Zv65m64"
   },
   "source": [
    "##### Implementation of the Angular Component\n",
    "In the `@Component` decorator the selector `progress-bar`, styles, template, and encapsulation is defined.  \n",
    "Whereas `encapsulation: ViewEncapsulation.ShadowDom` tells Angular that this component should be encapsulated.\n",
    "\n",
    "The styling attribute includes the styling is the same styling as it is used in the external stylesheet of the traditional JavaScript component.\n",
    "\n",
    "The template resembles the template from the Web Component, however the complete attribute is directly bound and reflected as property of the component with `[attr.complete]=\"complete\"` and the definition as `@Input()` in the class.\n",
    "\n",
    "The change of the width and the inner text Node representing the percentage of the complete status is directly bound to the HTML via `[ngStyle]=\"{'width': complete+'%', 'animation-delay': randomAnimationDelay}\"` and `{{complete}}%`.\n"
   ]
  },
  {
   "cell_type": "markdown",
   "metadata": {
    "colab_type": "text",
    "id": "cIOnWJmf85ZG"
   },
   "source": [
    "progress-bar.component.ts\n",
    "\n",
    "---\n",
    "\n",
    "\n",
    "```javascript\n",
    "import {Component, Input, ViewEncapsulation} from '@angular/core';\n",
    "\n",
    "@Component({\n",
    "  selector: 'progress-bar',\n",
    "  styles: [`\n",
    "```\n",
    "\n",
    "```css\n",
    "    div {\n",
    "      width: 100%;\n",
    "      height: 30px;\n",
    "      background-color: white;\n",
    "      border-radius: 5px;\n",
    "      box-shadow: 0 1px 3px black;\n",
    "      color: #FFF;\n",
    "    }\n",
    "    div > div {\n",
    "      height: 100%;\n",
    "      line-height: 30px;\n",
    "      background: linear-gradient(217deg, rgba(0,217,39,0.8), rgba(0,255,0,0) 70.71%),\n",
    "      linear-gradient(127deg, rgba(156,17,255,0.8), rgba(255,0,0,0) 70.71%),\n",
    "      linear-gradient(336deg, rgba(0,0,255,.8), rgba(0,0,255,0) 70.71%);\n",
    "      background-size: 400% 400%;\n",
    "      -webkit-animation: Gradient 1.6s ease infinite;\n",
    "      -moz-animation: Gradient 2s ease infinite;\n",
    "      animation: Gradient 1.9s ease infinite;\n",
    "      animation-iteration-count: 2;\n",
    "      text-align: center;\n",
    "      border-radius: 5px;\n",
    "      transition: width 0.25s;\n",
    "      max-width: 100%;\n",
    "    }\n",
    "    @keyframes Gradient {\n",
    "      0% {\n",
    "        background-position: 0% 50%\n",
    "      }\n",
    "      50% {\n",
    "        background-position: 100% 50%\n",
    "      }\n",
    "      100% {\n",
    "        background-position: 0% 50%\n",
    "      }\n",
    "    }\n",
    "  `],\n",
    "  template: `\n",
    "           ```\n",
    "\n",
    "```xml\n",
    "    <div [attr.complete]=\"complete\">\n",
    "      <div [ngStyle]=\"{'width': complete+'%', 'animation-delay': randomAnimationDelay}\">{{complete}}%</div>\n",
    "    </div>\n",
    "  `,\n",
    "  encapsulation: ViewEncapsulation.ShadowDom\n",
    "})\n",
    "```\n",
    "```javascript\n",
    "export class ProgressBarComponent{\n",
    "  @Input() complete = 0;\n",
    "  randomAnimationDelay= Math.random() + 's';\n",
    "}\n",
    "\n",
    "```\n",
    "\n"
   ]
  },
  {
   "cell_type": "markdown",
   "metadata": {
    "colab_type": "text",
    "id": "_oKGaPCz9Hh_"
   },
   "source": [
    "##### Integration of the Web Component into the HTML Web Page\n",
    "After running the command `ng build` a new folder `dist` is created with `progress-bar` as a sub-folder. This sub-folder contains four JavaScript files: main.js, polyfill.js, runtime.js and scripts.js.   \n",
    "man.js contains the Progress Bar Web component. If using multiple Web Components from Angular in an outside project the three scripts must only be included once.\n",
    "\n",
    "This Web Component can be equally used as the plain one created before. The four scripts must be included at the bottom of the `body`of the Web Page."
   ]
  },
  {
   "cell_type": "markdown",
   "metadata": {
    "colab_type": "text",
    "id": "gCLwxTZ0_Mcm"
   },
   "source": [
    "##### Summary\n",
    "The above section explained the configuration necessary for creating a Web Component in Angular.  \n",
    "Additionally it showed, that less code is necessary for implementing the Web Component thanks to property binding.\n",
    "\n",
    "However the configuration is still a lot of work, it is much easier to write a simple Web Component with Angular thanks to property binding."
   ]
  },
  {
   "cell_type": "markdown",
   "metadata": {
    "colab_type": "text",
    "id": "ys58s-z4_1ju"
   },
   "source": [
    "#### Polymer\n",
    "Polymer is a library which is as well developed and maintained by Google. It provides a set of features for creating custom elements and is unlike the other two presented frameworks only created for this use case.  \n"
   ]
  },
  {
   "cell_type": "markdown",
   "metadata": {
    "colab_type": "text",
    "id": "_vGYWNUxHJtd"
   },
   "source": [
    "##### Project Configuration\n",
    "The Project configuration is rather easy.  \n",
    "\n",
    "First a project folder should be created e.g. with `mkdir polymer`.  \n",
    "Inside the project the command `yarn init` initializes a package.json file, which handles the node packages.  \n",
    "Inside the package.json the attribute \"flat\" should be set to true. Afterwards the two packages from polymer can be added by running following commands:\n",
    "- `yarn add @polymer/polymer@next`\n",
    "- `yarn add @webcomponents/webcomponentsjs`\n",
    "\n",
    "For keeping a clean structure inside a static folder the progress-bar-polymer.js file is created including the Web Component.  \n"
   ]
  },
  {
   "cell_type": "markdown",
   "metadata": {
    "colab_type": "text",
    "id": "YasCgKAqJb99"
   },
   "source": [
    "##### Implementation of the Web Component\n",
    "First the Polymer Element library must be imported and the class must extent PolymerElement for being able to use it's features.  \n",
    "The definition as custom element is equal to the plain Web Component.\n",
    "\n"
   ]
  },
  {
   "cell_type": "markdown",
   "metadata": {
    "colab_type": "text",
    "id": "1EUJDFXqKPiW"
   },
   "source": [
    "```javascript\n",
    "import {html, PolymerElement} from '../node_modules/@polymer/polymer/polymer-element.js';\n",
    "\n",
    "class ProgressBarPolymer extends PolymerElement {\n",
    "    constructor() {\n",
    "        super();\n",
    "    }\n",
    "}\n",
    "window.customElements.define('progress-bar', ProgressBarPolymer);\n",
    "\n",
    "```"
   ]
  },
  {
   "cell_type": "markdown",
   "metadata": {
    "colab_type": "text",
    "id": "HeWts6zWKo8J"
   },
   "source": [
    "The `get template()` function looks like the combination looks like the `renderTemplate()` function from the vanilla Web Component.\n",
    "\n",
    "The property is set with the `get properties()` function and bound to the template."
   ]
  },
  {
   "cell_type": "markdown",
   "metadata": {
    "colab_type": "text",
    "id": "orC1eYFSLPtK"
   },
   "source": [
    "\n",
    "\n",
    "```javascript\n",
    "class ProgressBarPolymer extends PolymerElement {\n",
    "    constructor() {\n",
    "        super();\n",
    "        this.animationDelay = Math.random()\n",
    "    }\n",
    "    static get template() {\n",
    "        return html`\n",
    "```\n",
    "```css\n",
    "         <style>\n",
    "            .progress-bar {\n",
    "                width: 100%;\n",
    "                height: 30px;\n",
    "                background-color: white;\n",
    "                border-radius: 5px;\n",
    "                box-shadow: 0 1px 3px black;\n",
    "                color: #FFF;\n",
    "            }\n",
    "            .progress-bar-inner {\n",
    "                height: 100%;\n",
    "                line-height: 30px;\n",
    "                background: linear-gradient(217deg, rgba(0,217,39,0.8), rgba(0,255,0,0) 70.71%),\n",
    "                            linear-gradient(127deg, rgba(156,17,255,0.8), rgba(255,0,0,0) 70.71%),\n",
    "                            linear-gradient(336deg, rgba(0,0,255,.8), rgba(0,0,255,0) 70.71%);\n",
    "                            background-size: 400% 400%;\n",
    "                -webkit-animation: Gradient 1.6s ease infinite;\n",
    "\t            -moz-animation: Gradient 2s ease infinite;\n",
    "                animation: Gradient 1.9s ease infinite;\n",
    "                animation-iteration-count: 2;\n",
    "                text-align: center;\n",
    "                border-radius: 5px;\n",
    "                transition: width 0.25s;\n",
    "                max-width: 100%;\n",
    "            }\n",
    "            @keyframes Gradient {\n",
    "\t            0% {\n",
    "\t\t            background-position: 0% 50%\n",
    "            \t}\n",
    "               \t50% {\n",
    "\t            \tbackground-position: 100% 50%\n",
    "            \t}\n",
    "\t            100% {\n",
    "\t            \tbackground-position: 0% 50%\n",
    "\t            }\n",
    "\t        }\n",
    "\n",
    "        </style>\n",
    "      <div class=\"progress-bar\">\n",
    "           <div class=\"progress-bar-inner\" style=\"width: [[complete]]%;  animation-delay: {{animationDelay}}s\">\n",
    "                [[complete]]\n",
    "           </div>\n",
    "        </div>\n",
    "    `;\n",
    "    }\n",
    "```\n",
    "```javascript\n",
    "    static get properties() {\n",
    "        return {\n",
    "            complete: {\n",
    "                type: Number,\n",
    "                value: 0\n",
    "            },\n",
    "        };\n",
    "    }\n",
    "}\n",
    "```\n",
    "\n"
   ]
  },
  {
   "cell_type": "markdown",
   "metadata": {
    "colab_type": "text",
    "id": "55O5PckCLlkC"
   },
   "source": [
    "##### Integration of the Web Component into the HTML Web Page\n",
    "No build script must be run. Only the polyfill should be added the the component be included as module."
   ]
  },
  {
   "cell_type": "markdown",
   "metadata": {
    "colab_type": "text",
    "id": "XchhnrtiMLEj"
   },
   "source": [
    "```xml\n",
    "<!-- Load polyfills-->\n",
    "<script src=\"node_modules/@webcomponents/webcomponentsjs/webcomponents-loader.js\"></script>\n",
    "<!-- import progress-bar-polymer module -->\n",
    "<script type=\"module\" src=\"static/progress-bar-polymer.js\"></script>\n",
    "```\n",
    "\n",
    "The rest of the `index.html` file is exactly the same as for the vanilla Web Component."
   ]
  },
  {
   "cell_type": "markdown",
   "metadata": {
    "colab_type": "text",
    "id": "_eNN1xU5MhtM"
   },
   "source": [
    "##### Summary\n",
    "In the above section was explained how to create a simple Progress Bar Web Component using some features from the Polymer library.\n",
    "\n",
    "It showed the easy configuration process. Only a package.json for handling the two node packages, an index.html file, and a JavaScript file was necessary without the need of building anything.\n",
    "\n",
    "The creation process was very fast, easy and comfortable."
   ]
  },
  {
   "cell_type": "markdown",
   "metadata": {
    "colab_type": "text",
    "id": "qqI2jTYCPOFE"
   },
   "source": [
    "#### Vue.js\n",
    "Vue *(pronounced /vjuː/,)* is a JavaScript framework created by Evan You, who was working with AngularJS at Google and tried to build something more lightweight with this framework.\n"
   ]
  },
  {
   "cell_type": "markdown",
   "metadata": {
    "colab_type": "text",
    "id": "IT4TLA6UQRt7"
   },
   "source": [
    "##### Project Configuration\n",
    "First the [Vue CLI ](https://cli.vuejs.org/)in version 3 must be installed.  \n",
    "Then a new project can be instantiated with the following command: `vue create progress-bar`.\n",
    "After running the command some configuration options appear. Simplest is to choose babel as the only one.\n",
    "\n",
    "The build script in the package.json file must be adjusted to the following: `\"build\": \"vue-cli-service build --target wc --name progress-bar  'src/components/ProgressBar.vue'\"`\n",
    "\n",
    "Assuming the creation of the ProgressBar.vue component with the custom element name of `progress-bar`."
   ]
  },
  {
   "cell_type": "markdown",
   "metadata": {
    "colab_type": "text",
    "id": "YBAC6fhkRUO4"
   },
   "source": [
    "##### Implementation of the Web Component\n",
    "Within `src/components` a new Vue Component `ProgressBar.vue` as instantiated by the build script, will be created.\n",
    "\n",
    "This component divides `template, script and style` in individual tags. Whereas the style includes the complete styling.\n",
    "\n",
    "The random animation is applied via a computed property in the `script`. Furthermore the `complete` property and reflecting attribute is defined in `props`.\n",
    "\n",
    "The template equally binds the styling and complete percentage, as do Angular and Polymer."
   ]
  },
  {
   "cell_type": "markdown",
   "metadata": {
    "colab_type": "text",
    "id": "v-HCtWysSuxD"
   },
   "source": [
    "\n",
    "\n",
    "```xml\n",
    "<template>\n",
    "    <div class=\"progress-bar\">\n",
    "        <div class=\"progress-bar-inner\" \n",
    "             :style=\"{width: complete + '%', 'animation-delay': randomAnimationDelay}\">\n",
    "            {{complete}}%\n",
    "        </div>\n",
    "    </div>\n",
    "</template>\n",
    "\n",
    "<script>\n",
    "  ```\n",
    "  ```javascript\n",
    "    export default {\n",
    "        name: \"progress-bar\",\n",
    "        props: {\n",
    "            complete: {\n",
    "                type: Number,\n",
    "                default: 0\n",
    "            },\n",
    "        },\n",
    "        computed: {\n",
    "            randomAnimationDelay() {\n",
    "                return Math.random()+'s';\n",
    "            }\n",
    "        },\n",
    "    }\n",
    "```\n",
    "```xml\n",
    "</script>\n",
    "\n",
    "<style>\n",
    "  ```\n",
    "```css\n",
    "    .progress-bar {\n",
    "        width: 100%;\n",
    "        height: 30px;\n",
    "        background-color: white;\n",
    "        border-radius: 5px;\n",
    "        box-shadow: 0 1px 3px black;\n",
    "        color: #FFF;\n",
    "    }\n",
    "    .progress-bar-inner {\n",
    "        height: 100%;\n",
    "        line-height: 30px;\n",
    "        background: linear-gradient(217deg, rgba(0,217,39,0.8), rgba(0,255,0,0) 70.71%),\n",
    "        linear-gradient(127deg, rgba(156,17,255,0.8), rgba(255,0,0,0) 70.71%),\n",
    "        linear-gradient(336deg, rgba(0,0,255,.8), rgba(0,0,255,0) 70.71%);\n",
    "        background-size: 400% 400%;\n",
    "        -webkit-animation: Gradient 1.6s ease infinite;\n",
    "        -moz-animation: Gradient 2s ease infinite;\n",
    "        animation: Gradient 1.9s ease infinite;\n",
    "        animation-iteration-count: 2;\n",
    "        text-align: center;\n",
    "        border-radius: 5px;\n",
    "        transition: width 0.25s;\n",
    "        max-width: 100%;\n",
    "    }\n",
    "    @keyframes Gradient {\n",
    "        0% {\n",
    "            background-position: 0% 50%\n",
    "        }\n",
    "        50% {\n",
    "            background-position: 100% 50%\n",
    "        }\n",
    "        100% {\n",
    "            background-position: 0% 50%\n",
    "        }\n",
    "    }\n",
    "```\n",
    "```\n",
    "</style>\n",
    "```\n",
    "\n"
   ]
  },
  {
   "cell_type": "markdown",
   "metadata": {
    "colab_type": "text",
    "id": "CC9hXZWcThjf"
   },
   "source": [
    "##### Integration of the Web Component into the HTML Web Page\n",
    "With `npm run build` a `dist` folder is created containing the `progress-bar.js` file with the Web Component.\n",
    "\n",
    "For using the Web Component [vue.js](https://unpkg.com/vue) and the JavaScript component must be included in the web page.\n",
    "\n",
    ">*At this point it is important to point out that the JavaScript Web component must be included after the custom element `<progress-bar>` is plugged into the DOM.  \n",
    ">Currently Webpack creates a `demo.html` page, which positions the JavaScript before. This has to be changed for making the Web Component work.*\n",
    "\n",
    "The rest of the `index.html` file is equal to the vanilla web component."
   ]
  },
  {
   "cell_type": "markdown",
   "metadata": {
    "colab_type": "text",
    "id": "tHPzsOIaU6Zk"
   },
   "source": [
    "##### Summary\n",
    "This section explained how to create a Web Component with the help of `Vue.js`.\n",
    "\n",
    "The configuration effort was by far less compared to Angular.  \n",
    "However for this simple component the Vue CLI already creates a project architecture.  \n",
    "For this reason Polymer would probably be the best choice regarding configuration effort and project architecture."
   ]
  },
  {
   "cell_type": "markdown",
   "metadata": {
    "colab_type": "text",
    "id": "egTjSixbVujB"
   },
   "source": [
    "## Image Slider\n",
    "![Image Slider](img/ImageSlider.png)\n",
    "The Image Slider web component is a more complex one.   \n",
    "It accepts to put images into the enclosing custom element as slots. \n",
    "Accordingly to the amount of images, dots are created on which the user can click for sliding to the specific image slide.  \n",
    "Furhtermore the user can click on the right and left arrow keys for navigation.\n",
    "\n",
    "Herewith this component works with slots, a selectedindex property for the initial image, and custom events on the dots and arrows."
   ]
  },
  {
   "cell_type": "markdown",
   "metadata": {
    "colab_type": "text",
    "id": "ZDGltbhf1XrG"
   },
   "source": [
    "### Vanilla Web Component\n"
   ]
  },
  {
   "cell_type": "markdown",
   "metadata": {
    "colab_type": "text",
    "id": "zvcWhOurOOrF"
   },
   "source": [
    "#### Implementation\n",
    "In the constructor all class relevant properties are defined.\n",
    "The `selectedindex` attribute of the Image Slider and is equally defined like the `complete` attribute from the Progress bar. \n",
    "\n",
    "Additionally an array for the dots is declared. The generateTemplate() function is called and the HTML `figure` element is queried from the generated template.\n",
    "\n",
    "As already stated, the `observedAttributes()` hook reflects the `selectedindex` attribute to the class property `_selected`. \n",
    "\n",
    "The `attributeChangedCallback(name, oldVal, newVal) ` adjusts the classes, `_selected` property and the position of the Image Slider for showing the correct slide with `_fig.style.left`."
   ]
  },
  {
   "cell_type": "markdown",
   "metadata": {
    "colab_type": "text",
    "id": "pszqb98z6Ig5"
   },
   "source": [
    "\n",
    "\n",
    "```javascript\n",
    "class ImageSlider extends HTMLElement {\n",
    "    constructor() {\n",
    "        super();\n",
    "        this._shadow = this.attachShadow({mode: \"open\"});\n",
    "        this._selected = parseInt(this.getAttribute('selectedindex')) | 0;\n",
    "        this._dots = [];\n",
    "        this.generateTemplate();\n",
    "        this._fig = this._shadow.querySelector('figure');\n",
    "    }\n",
    "    get selectedindex() {\n",
    "        return this._selected;\n",
    "    }\n",
    "\n",
    "    set selectedindex(val) {\n",
    "        this._selected = val;\n",
    "    }\n",
    "    static get observedAttributes() {\n",
    "        return ['selectedindex'];\n",
    "    }\n",
    "    attributeChangedCallback(name, oldVal, newVal) {\n",
    "        switch (name) {\n",
    "            case 'selectedindex':\n",
    "                if(oldVal !== newVal && this._dots[parseInt(oldVal)]) {\n",
    "                    this._dots[parseInt(oldVal)].classList.remove('selected')\n",
    "                    this._selected = parseInt(newVal, 10) || 0;\n",
    "                    this._dots[parseInt(newVal)].classList.add('selected')\n",
    "                    this._fig.style.left = (-(parseInt(newVal) ) * 100) + '%';\n",
    "                }\n",
    "        }\n",
    "    }\n",
    "   generateTemplate() {\n",
    "        this._shadow.innerHTML = `\n",
    "```\n",
    "```css\n",
    "        <style>\n",
    "        @import \"image-slider.css\";\n",
    "        </style>\n",
    "        <div>\n",
    "        <div>\n",
    "            <figure>\n",
    "                    <slot>\n",
    "                        <img src=\"/static/img/pic-1.jpg\" alt >\n",
    "                        <img src=\"/static/img/pic-2.jpeg\" alt >\n",
    "                        <img src=\"/static/img/pic-3.jpeg\" alt >\n",
    "                        <img src=\"/static/img/pic-4.jpeg\" alt >\n",
    "                    </slot>\n",
    "             </figure>\n",
    "             <div class=\"controls\"></div>\n",
    "         </div>\n",
    "        <div class=\"arrow-left\"></div>\n",
    "        <div class=\"arrow-right\"></div>\n",
    "        </div>\n",
    "                      \n",
    "        `;\n",
    "    }\n",
    "\n",
    "}\n",
    "```\n",
    "```javascript\n",
    "window.customElements.define('image-slider', ImageSlider);\n",
    "```\n",
    "\n",
    "https://www.smashingmagazine.com/2016/12/styling-web-components-using-a-shared-style-sheet/\n"
   ]
  },
  {
   "cell_type": "markdown",
   "metadata": {
    "colab_type": "text",
    "id": "XG8s-B-6_mQa"
   },
   "source": [
    "The stylesheet `image-slider.css` styles the images, which are later included via the `slot` with the help of the `::slotted(img)` attribute.  \n",
    "The `::host` attribute references the element Hosting the Image-Slider."
   ]
  },
  {
   "cell_type": "markdown",
   "metadata": {
    "colab_type": "text",
    "id": "oDXi75TBE9k0"
   },
   "source": [
    "For generating the dots, the amount of the images, which are passed to the custom element must be known.  \n",
    "These will be put into the `connectedCallback()` hook, which will be called, when after the element is rendered in the DOM.  \n",
    "This allows to define lazy properties not affecting the initial page load.\n",
    "\n",
    "In this function, the `_slot` element is queried with it's assigned child Nodes. Afterwards an Iteration over the image slots applies styling to the slides and generates the `dots` as `span`elements.  \n",
    "Furthermore an event listener is added to the dot, which sets the appropriate classes for the sliding functionality if one is clicked. The dot is then added to the initially declared `_dots` array .\n",
    "\n",
    "It is important here for keeping track of the custom events, since the event listeners must be removed when the Image Slider component is disconnected from the DOM.\n",
    "\n",
    "Moreover the two event listeners for the left and right arrow, that emit sliding functionality to the specified directions when clicked, are added.\n",
    "\n",
    "```javascript\n",
    "   connectedCallback() {\n",
    "        const slot = this._shadow.querySelector('slot');\n",
    "        const fig = this._shadow.querySelector('figure');\n",
    "        const slotChildren = slot.assignedNodes()\n",
    "\n",
    "        let  amount = slotChildren.filter(c => c.nodeName === 'IMG').length;\n",
    "        let counter = 0\n",
    "        let controls = document.createElement('div')\n",
    "        let dots = this._dots\n",
    " \n",
    "        slotChildren.forEach((child, i)=> {\n",
    "            if(child.nodeName === 'IMG') {\n",
    "                child.style.width = 100 / amount + '%'\n",
    "                let control = document.createElement('span')\n",
    "                dots.push(control)\n",
    "                if(counter === this.selectedindex) {\n",
    "                    control.classList.add('selected')\n",
    "                }\n",
    "                control.innerText = counter\n",
    "                control.addEventListener('click', this._selectIndex.bind(this,this,control.innerText))\n",
    "                controls.appendChild(control)\n",
    "                counter ++\n",
    "            }\n",
    "        })\n",
    "        this._shadow.querySelector('.controls').appendChild(controls)\n",
    "        fig.style.width = amount * 100 + '%';\n",
    "\n",
    "        this._shadow.querySelector('.arrow-right').addEventListener('click', this._slide.bind(this,this, 1))\n",
    "        this._shadow.querySelector('.arrow-left').addEventListener('click', this._slide.bind(this,this, -1))\n",
    "    }\n",
    "```\n",
    "\n"
   ]
  },
  {
   "cell_type": "markdown",
   "metadata": {
    "colab_type": "text",
    "id": "cHl1dZSTKIv1"
   },
   "source": [
    "The two functions emitted by the click event listeners `_slide` and `_selectIndex` emit the custom event `updateSelectedIndex` with the new index as parameter. The host element now may listen to this event and update it's selectedindex attribute.\n",
    "\n",
    "Here is important to notice that the Web Component does not manipulate the host's component state but inform the hosting parent about the change with an event.\n",
    "\n",
    "This is a commonly used pattern, since manipulating the parent's state directly from a child component is very error prone and can even lead to loops."
   ]
  },
  {
   "cell_type": "markdown",
   "metadata": {
    "colab_type": "text",
    "id": "ebvE0UzcNd3B"
   },
   "source": [
    "\n",
    "\n",
    "```javascript\n",
    "_slide(elem, i) {\n",
    "    if(i>0 && this.selectedindex < this._dots.length -1 || i<0  && this.selectedindex > 0){\n",
    "        this.dispatchEvent(new CustomEvent('updateSelectedIndex', {detail: this.selectedindex+i}))\n",
    "    }\n",
    "}\n",
    "\n",
    "_selectIndex(elem, newIndex) {\n",
    "    this.dispatchEvent(new CustomEvent('updateSelectedIndex', {detail: newIndex}))\n",
    "}\n",
    "```\n",
    "\n"
   ]
  },
  {
   "cell_type": "markdown",
   "metadata": {
    "colab_type": "text",
    "id": "_FI5QYA1NkSE"
   },
   "source": [
    "As mentioned before, the event listeners must be removed, if the element is removed from the DOM. This is especially important today, since the use of single page applications is a very common pattern.\n",
    "\n",
    "In the `disconnectedCallback()` the event listeners are removed."
   ]
  },
  {
   "cell_type": "markdown",
   "metadata": {
    "colab_type": "text",
    "id": "RAVowhkTN-tw"
   },
   "source": [
    "\n",
    "\n",
    "```javascript\n",
    "disconnectedCallback() {\n",
    "    this._shadow.querySelector('.arrow-right').removeEventListener('click', this._slide)\n",
    "    this._shadow.querySelector('.arrow-left').removeEventListener('click', this._slide)\n",
    "    Array.prototype.forEach.call(this._shadow.querySelectorAll('.controls span'), control => {\n",
    "        control.removeEventListener('click', this._selectIndex)\n",
    "    })\n",
    "}\n",
    "```\n",
    "\n"
   ]
  },
  {
   "cell_type": "markdown",
   "metadata": {
    "colab_type": "text",
    "id": "4YYtrHqXOTFi"
   },
   "source": [
    "#### Integration of the Web Component in the HTML Web Page"
   ]
  },
  {
   "cell_type": "markdown",
   "metadata": {
    "colab_type": "text",
    "id": "BTcTz_75OZXQ"
   },
   "source": [
    "Since the Image Slider component contains multiple images a new folder `static/img` is created containing the different images.\n",
    "\n",
    "Inside the custom element these images are referenced.\n",
    "\n",
    "The `image-slider.js` JavaScript is added at the bottom of the `body` tag."
   ]
  },
  {
   "cell_type": "markdown",
   "metadata": {
    "colab_type": "text",
    "id": "mL-sdRhQh_qP"
   },
   "source": [
    "index.html\n",
    "\n",
    "---\n",
    "\n",
    "\n",
    "```xml\n",
    "<!-- ...  -->\n",
    "<body>\n",
    "    <div style=\"height: 400px; max-width: 700px;margin:auto;\">\n",
    "        <image-slider selectedindex=\"0\">\n",
    "            <img src=\"/static/img/pic-1.jpg\" alt >\n",
    "            <img src=\"/static/img/pic-2.jpeg\" alt >\n",
    "            <img src=\"/static/img/pic-3.jpeg\" alt >\n",
    "            <img src=\"/static/img/pic-4.jpeg\" alt >\n",
    "            <img src=\"/static/img/pic-5.jpeg\" alt >\n",
    "            <img src=\"/static/img/pic-6.jpeg\" alt >\n",
    "            <img src=\"/static/img/pic-1.jpg\" alt >\n",
    "            <img src=\"/static/img/pic-3.jpeg\" alt >\n",
    "            <img src=\"/static/img/pic-5.jpeg\" alt >\n",
    "        </image-slider>\n",
    "    </div>\n",
    "    <script src=\"/static/image-slider.js\"></script>\n",
    "    <script><!-- more JavaScript code --></script\n",
    "</body>\n",
    "```\n",
    "\n"
   ]
  },
  {
   "cell_type": "markdown",
   "metadata": {
    "colab_type": "text",
    "id": "d3tfr0iSisG5"
   },
   "source": [
    "Inside the custom JavaScript an event listener listens to the `updateSelectedIndex` event emitted by the Image Slider if a user tries to switch to another slide.\n",
    "\n",
    "The function reacting to the vent updates the `selectedindex` attribute from the Image Slider component.\n",
    "\n",
    "Furthermore the ImageSlider slides from slide zero, to the second and third slide, pausing each time for a second, for making sure the animation has finished.\n",
    "\n",
    "This will be important later on when measuring the performance of the Web Component."
   ]
  },
  {
   "cell_type": "markdown",
   "metadata": {
    "colab_type": "text",
    "id": "xXfHDSYmj7aC"
   },
   "source": [
    "\n",
    "\n",
    "```javascript\n",
    " (function () {\n",
    "      const ImageSlider = document.querySelector('image-slider');\n",
    "      ImageSlider.addEventListener('updateSelectedIndex', (ev) => {\n",
    "          ImageSlider.setAttribute('selectedindex', ev.detail[0])\n",
    "      })\n",
    "\n",
    "      let index = 0;\n",
    "\n",
    "      let progressInterval = setInterval(() => {\n",
    "          index += 1;\n",
    "          if (index < 3) {\n",
    "              ImageSlider.setAttribute('selectedindex', index)\n",
    "          } else {\n",
    "              clearInterval(progressInterval);\n",
    "          }\n",
    "      }, 1000);\n",
    "  })();\n",
    "```\n",
    "\n"
   ]
  },
  {
   "cell_type": "markdown",
   "metadata": {
    "colab_type": "text",
    "id": "3vGRMD4QOZgs"
   },
   "source": [
    "#### Summary\n",
    "In this section the Image Slider as a more complex component was created. Additional hooks as the `connectedCallback()`  and the `disconnectedCallback()` where introduced.\n",
    "\n",
    "A way how to handle custom events was presented and how to work with slots was explained."
   ]
  },
  {
   "cell_type": "markdown",
   "metadata": {
    "colab_type": "text",
    "id": "0P8OWycXVxi-"
   },
   "source": [
    "### Angular\n",
    "The setup of the Image Slider component corresponds to the explained setup of the Progress Bar.\n"
   ]
  },
  {
   "cell_type": "markdown",
   "metadata": {
    "colab_type": "text",
    "id": "_RT9dr7ghPUj"
   },
   "source": [
    "#### Implementation\n",
    "The template directly binds the styling and events to the elements. From the `figure`element the reference is taken via `ElementRef` for being able to use vanilla JavaScript and query it for the slot images.\n",
    "\n",
    "Furthermore, a `slot` in Angular is referenced by the element `<ng-content>`. "
   ]
  },
  {
   "cell_type": "markdown",
   "metadata": {
    "colab_type": "text",
    "id": "AYlX64ZqWcaF"
   },
   "source": [
    "Template of the `image-slider.compontent.ts`\n",
    "\n",
    "___\n",
    "\n",
    "```xml\n",
    "    <div>\n",
    "      <div>\n",
    "        <figure #imageContainer\n",
    "                [style.width]=\"(slides.length+1)*100 + '%'\"\n",
    "                [style.left]=\"-_sI*100+'%'\"\n",
    "        >\n",
    "          <ng-content></ng-content>\n",
    "        </figure>\n",
    "        <div class=\"controls\">\n",
    "          <span *ngFor=\"let slide of slides; let i = index;\" [class.selected]=\"i===_sI\"\n",
    "                (click)=\"changeSlide(i)\">{{i}}</span>\n",
    "        </div>\n",
    "      </div>\n",
    "      <div class=\"arrow-left\" (click)=\"slide(-1)\"></div>\n",
    "      <div class=\"arrow-right\" (click)=\"slide(1)\"></div>\n",
    "    </div>\n",
    "```\n",
    "\n"
   ]
  },
  {
   "cell_type": "markdown",
   "metadata": {
    "colab_type": "text",
    "id": "8PRV70z5Vwg5"
   },
   "source": [
    "The styling will be equally defined as for the Web Component. However it is not possible in Angular to style the images with the `::slotted(img)`attribute from the Web Component.  \n",
    "This is why the styling for the slides must be directly applied to the images via JavaScript.  \n",
    "It is applied in the `ngAfterContentChecked()` hook lifecycle Angular function, which is is invoked  after the slots content inside of `ng-content`is checked by the change detector.\n",
    "\n",
    "Inside this hook the referenced `figure` element is queried for it`s slot children, which is then stored in a class property. Looping the slot children, every image receives a height of \"400px\", a calculated width, and the \"pointer\" attribute, which is invoked on hover.\n",
    "\n",
    "Additionally, the dots are generated in reference to the amount of slides in the template.\n",
    "\n",
    "The `selectedindex` Web Component attribute is defined as `@Input` property and a custom event `updateSelectedIndex` is declared.\n",
    "\n",
    "The two functions `changeSlide()` and `slide()` are called if a click event occurs on either one of the dots or the arrow keys.\n",
    "\n",
    "Here correspondant with the Web Component the cutom defined event is emitted, which notifies the host about the index change."
   ]
  },
  {
   "cell_type": "markdown",
   "metadata": {
    "colab_type": "text",
    "id": "gvTyuCRBaBwG"
   },
   "source": [
    "image-slider.component.ts\n",
    "\n",
    "___\n",
    "\n",
    "```javascript\n",
    "export class ImageSliderComponent implements AfterContentChecked {\n",
    "  @ViewChild('imageContainer') figure: ElementRef;\n",
    "  @Input()\n",
    "  set selectedindex(val:  string) {\n",
    "    this._sI = parseInt(val);\n",
    "  }\n",
    "  @Output() updateSelectedIndex = new EventEmitter<number>();\n",
    "\n",
    "  slides =  [];\n",
    "  _sI = 0;\n",
    "\n",
    "  ngAfterContentChecked(): void {\n",
    "    this.slides = this.figure.nativeElement.children\n",
    "    for(let i=0; i< this.slides.length; i++) {\n",
    "      const slide= this.slides[i];\n",
    "      slide.style.height = '400px';\n",
    "      slide.style.width = 100 / (this.slides.length+1) + '%';\n",
    "      slide.style.cursor = 'pointer';\n",
    "    }\n",
    "  }\n",
    "\n",
    "  changeSlide(i: number) {\n",
    "    this.updateSelectedIndex.emit(i)\n",
    "  }\n",
    "\n",
    "  slide(i: number) {\n",
    "    if(i<0 && this._sI>0 || i>0 && this._sI<this.slides.length-1){\n",
    "      this.updateSelectedIndex.emit(this._sI+i)\n",
    "    }\n",
    "  }\n",
    "}\n",
    "```\n",
    "\n"
   ]
  },
  {
   "cell_type": "markdown",
   "metadata": {
    "colab_type": "text",
    "id": "dFpxi0ycgaFh"
   },
   "source": [
    "The build process corresponds to the one from the Progress Bar.\n",
    "\n",
    "The integratrion of the Web Component into the HTML Web page,  is performed the same way as for the Web Component."
   ]
  },
  {
   "cell_type": "markdown",
   "metadata": {
    "colab_type": "text",
    "id": "c6XOM44Qg__Q"
   },
   "source": [
    "#### Summary\n",
    "The above section explained how to create the more complex Image Slider web component in Angular."
   ]
  },
  {
   "cell_type": "markdown",
   "metadata": {
    "colab_type": "text",
    "id": "aE0YXpf3Vzs-"
   },
   "source": [
    "### Polymer"
   ]
  },
  {
   "cell_type": "markdown",
   "metadata": {
    "colab_type": "text",
    "id": "pfQK3R1TONGr"
   },
   "source": [
    "#### Implementation\n",
    "The template differentiates from the one created with Vue or Angular. However, events may be bound to the template directly, the parameters can not simple be passed inside the function brackets. These parameters must be passed separately with the help of a `data-index$` attribute. Furthermore the selected index class, indicating a red dot must be bound via a getter function, that returns the correct class to a given index.\n",
    "\n",
    "Styling can be directly applied inside the `style` tag of the `template()` function."
   ]
  },
  {
   "cell_type": "markdown",
   "metadata": {
    "colab_type": "text",
    "id": "m9LgNntaPZ0-"
   },
   "source": [
    "\n",
    "image-slider-polymer.js\n",
    "\n",
    "___\n",
    "\n",
    "```xml\n",
    "<div>\n",
    "    <div>\n",
    "        <figure style=\"width: [[_figureWidth]]%;left: {{_left}}%;\" >\n",
    "                <slot>\n",
    "                    <img src=\"/static/assets/img/pic-1.jpg\" alt >\n",
    "                    <img src=\"/static/assets/img/pic-2.jpeg\" alt >\n",
    "                    <img src=\"/static/assets/img/pic-3.jpeg\" alt >\n",
    "                    <img src=\"/static/assets/img/pic-4.jpeg\" alt >\n",
    "                </slot>\n",
    "         </figure>\n",
    "         <div class=\"controls\">\n",
    "           <template is=\"dom-repeat\" items=\"{{_slides}}\">\n",
    "             <span class$=\"{{_isSelected(index)}}\" data-index$=\"[[index]]\" on-click=\"_changeSlide\"\n",
    "                    >[[index]]</span>\n",
    "            </template>\n",
    "         </div>\n",
    "     </div>\n",
    "\n",
    "    <div class=\"arrow-left\" on-click=\"_slide\" data-index$=\"-1\"></div>\n",
    "    <div class=\"arrow-right\" on-click=\"_slide\" data-index$=\"1\"></div>\n",
    "</div>\n",
    "```\n",
    "\n"
   ]
  },
  {
   "cell_type": "markdown",
   "metadata": {
    "colab_type": "text",
    "id": "z1WkcAVwP04K"
   },
   "source": [
    "The `selectedindex` is defined as property which notifies the host element on change and reflects to the corresponding HTML attribute.\n",
    "\n",
    "An observer function updates the property only if the value is greater then zero omitting undefined values.\n",
    "\n",
    "The `updateSi()` function works equally as the `attributeChangedCallback` function from the Web Component.\n",
    "\n",
    "The `connectedCallback` function was as well already introduced with the Web Component.  \n",
    "However here the `_prepareSlider` function has less work to do, since the click events can be directly bound to the elements. Only the complete width of the Slider is calculated, and the width for each slide image is applied."
   ]
  },
  {
   "cell_type": "markdown",
   "metadata": {
    "colab_type": "text",
    "id": "2iQUKC5oee58"
   },
   "source": [
    "image-slider-polymer.js\n",
    "\n",
    "---\n",
    "\n",
    "\n",
    "```javascript\n",
    "class ImageSliderComponent extends PolymerElement {\n",
    "  /**\n",
    "  * get templat() {...}\n",
    "  */\n",
    " static get properties() {\n",
    "        return {\n",
    "            selectedindex: {\n",
    "                type: Number,\n",
    "                value: 0,\n",
    "                notify: true,    // notify host element on change\n",
    "                                  // (document.querySelector('image-slider').selectedIndex \n",
    "                                  // will not update - only via getAttribute)\n",
    "                reflectToAttribute: true,               // synchronize with corresponding HTML attribute\n",
    "                observer: '_selectedChanged'\n",
    "            },\n",
    "            _sI: {\n",
    "                type: Number,\n",
    "                value: 0\n",
    "            },\n",
    "            _slides: {\n",
    "                type: Array,\n",
    "                value: []\n",
    "            },\n",
    "            _figureWidth: {\n",
    "                type: Number,\n",
    "                value: 0\n",
    "            },\n",
    "            _left: {\n",
    "                type: Number,\n",
    "                value: 0\n",
    "            },\n",
    "            _slideImgWidth: {\n",
    "                type: Number,\n",
    "                value: 0\n",
    "            },\n",
    "            _dots: {\n",
    "                type: Array,\n",
    "                value: []\n",
    "            }\n",
    "        }\n",
    "    }\n",
    "    _selectedChanged(newValue, oldValue) {\n",
    "        if(oldValue>=0) {\n",
    "             this._updateSi(newValue, oldValue)\n",
    "        }\n",
    "    }\n",
    "    _updateSi(newValue, oldValue){\n",
    "        this._sI = newValue\n",
    "        if(this._dots.length === 0) {\n",
    "            this._dots = this.shadowRoot.querySelectorAll('.controls span')\n",
    "        }\n",
    "        this._dots[oldValue].classList.remove('selected')\n",
    "        this._dots[newValue].classList.add('selected')\n",
    "        this._left = -this._sI * 100\n",
    "    }\n",
    "\n",
    "    constructor() {\n",
    "        super();\n",
    "    }\n",
    "    connectedCallback() {\n",
    "        super.connectedCallback();\n",
    "        this._prepareSlider();\n",
    "    }\n",
    "\n",
    "    ready() {\n",
    "        super.ready();\n",
    "    }\n",
    "\n",
    "    _prepareSlider() {\n",
    "        const imgDomElemns = this.children\n",
    "        this._figureWidth = (imgDomElemns.length + 1) * 100\n",
    "        this._slideImgWidth = 100 / (imgDomElemns.length + 1)\n",
    "        this._left = -this._sI * 100\n",
    "        for (let i = 0; i < imgDomElemns.length; i++) {\n",
    "            imgDomElemns[i].style.width = this._slideImgWidth + '%';\n",
    "            this._slides.push(i)\n",
    "        }\n",
    "    }\n",
    "\n",
    "    _isSelected(index) {\n",
    "        return this._sI === index ? 'selected' : '';\n",
    "    }\n",
    "\n",
    "    _changeSlide(e) {\n",
    "        this.dispatchEvent(new CustomEvent('updateSelectedIndex', {detail: e.currentTarget.dataset.index}));\n",
    "    }\n",
    "    \n",
    "    _slide(e) {\n",
    "        const i = parseInt(e.currentTarget.getAttribute('data-index$'))\n",
    "        if(i<0 && this._sI>0 || i>0 && this._sI<this._slides.length-1){\n",
    "            this.dispatchEvent(new CustomEvent('updateSelectedIndex', {detail: this._sI + i}));\n",
    "        }\n",
    "    }\n",
    "\n",
    "}\n",
    "// Register the image-slider element with the browser\n",
    "customElements.define('image-slider', ImageSliderComponent);\n",
    "```\n",
    "\n"
   ]
  },
  {
   "cell_type": "markdown",
   "metadata": {
    "colab_type": "text",
    "id": "53vkgYVc5C8B"
   },
   "source": [
    "The integration into the HTML Web Page is equal to the Progress Bar"
   ]
  },
  {
   "cell_type": "markdown",
   "metadata": {
    "colab_type": "text",
    "id": "qI_ZX12k46jW"
   },
   "source": [
    "#### Summary\n",
    "The above section explained how to create the more complex Image Slider component with Polymer.\n",
    "\n",
    "Passing attributes to the click events was a little uncomfortable, since passing parameters is not supported.\n",
    "Furthermore, no template inline calculations are allowed. Which is why for every computed attribute in the template, there must be a property. This leads to more code, when comparing to Angular or Vue and does in this case not really facilitate the process of creating Web Components compared to the vanilla version.\n"
   ]
  },
  {
   "cell_type": "markdown",
   "metadata": {
    "colab_type": "text",
    "id": "-6vXYjZJV1kp"
   },
   "source": [
    "### Vue\n"
   ]
  },
  {
   "cell_type": "markdown",
   "metadata": {
    "colab_type": "text",
    "id": "ERK97eaJCjKe"
   },
   "source": [
    "#### Implementation\n",
    "The styling corresponds to the Web Component. However in here the image slots can be styled without using the css `::slotted(img)` syntax. Furthermore, the host element `image-container` cannot be styled with `:host`. Only the first element in the shadow DOM can be styled.\n",
    "\n",
    "The template allows to iterate over a specified range. However, the range starts with 1. This is why here an additional zero element is added for the amount of dots.\n",
    "\n",
    "The click events can be directly bound to the HTML elements. It is even possible to implement an if else structure into the template."
   ]
  },
  {
   "cell_type": "markdown",
   "metadata": {
    "colab_type": "text",
    "id": "I-xJ-D89BD58"
   },
   "source": [
    "ImageSlider.vue\n",
    "\n",
    "---\n",
    "\n",
    "\n",
    "```xml\n",
    "<template>\n",
    "    <div class=\"container\">\n",
    "        <div class=\"image-wrapper\">\n",
    "            <figure :style=\"figureStyle\">\n",
    "                <slot>\n",
    "                    <img src=\"/assets/img/pic-1.jpg\" alt>\n",
    "                    <img src=\"/assets/img/pic-2.jpeg\" alt>\n",
    "                    <img src=\"/assets/img/pic-3.jpeg\" alt>\n",
    "                    <img src=\"/assets/img/pic-4.jpeg\" alt>\n",
    "                </slot>\n",
    "            </figure>\n",
    "            <div class=\"controls\">\n",
    "                <span :class=\"{selected: 0 === sI}\" @click=\"changeSlide(0)\">0</span>\n",
    "                <span v-for=\"slideIndex in (slideLength-1)\"\n",
    "                      :class=\"{selected: slideIndex===sI}\"\n",
    "                      @click=\"changeSlide(slideIndex)\">{{slideIndex}}</span>\n",
    "            </div>\n",
    "        </div>\n",
    "        <div class=\"arrow-left\" @click=\"sI>0 ? slide(-1) : ''\"></div>\n",
    "        <div class=\"arrow-right\" @click=\"sI<slideLength-1 ? slide(1) : ''\"></div>\n",
    "    </div>\n",
    "</template>\n",
    "```\n",
    "\n"
   ]
  },
  {
   "cell_type": "markdown",
   "metadata": {
    "colab_type": "text",
    "id": "HqoSe9VHBcFv"
   },
   "source": [
    "The width of the figure element is calculated with the help of a computed property. The `selectedindex` attribute is watched. On change this attribute will be assigned to the component property `si`.\n",
    "\n",
    "The two methods `slide()` and `changeSlide()` emit the `updateSelectedIndex` function for notifying the parent hosting component about the event, so that it can update the index' attribute.\n",
    "\n",
    "The `mounted()` hook from Vue will be called after the slot children are rendered. Here the width of the Image Slider is received and the width to each image slide applied."
   ]
  },
  {
   "cell_type": "markdown",
   "metadata": {
    "colab_type": "text",
    "id": "_OVEOH-VC2E6"
   },
   "source": [
    "ImageSlider.vue\n",
    "\n",
    "---\n",
    "\n",
    "\n",
    "```javascript\n",
    "export default {\n",
    "    name: \"image-slider\",\n",
    "    computed: {\n",
    "        figureStyle() {\n",
    "            return {\n",
    "                width: (this.slideLength) * 100 + '%',\n",
    "                left: -this.sI * 100 + '%'\n",
    "            }\n",
    "        },\n",
    "    },\n",
    "    watch: {\n",
    "        selectedindex(nweval) {\n",
    "            this.sI = this.selectedindex\n",
    "        }\n",
    "    },\n",
    "    props: {\n",
    "        selectedindex: {\n",
    "            type: Number,\n",
    "            default: 0\n",
    "        },\n",
    "    },\n",
    "    data() {\n",
    "        return {\n",
    "            slides: [0, 1, 2, 3],\n",
    "            slideLength: 1,\n",
    "            sI: 0\n",
    "        }\n",
    "    },\n",
    "    methods: {\n",
    "        changeSlide(i) {\n",
    "            this.$emit('updateSelectedIndex', i);\n",
    "        },\n",
    "        slide(i) {\n",
    "            this.$emit('updateSelectedIndex', this.sI+i);\n",
    "        },\n",
    "\n",
    "    },\n",
    "    mounted() {\n",
    "        this.sI = this.selectedindex\n",
    "        this.slideLength = this.$slots.default.length\n",
    "        this.$slots.default.map(img => {\n",
    "            img.elm.style.width = 100 / (this.slideLength) + '%'\n",
    "        })\n",
    "    }\n",
    "}\n",
    "```\n",
    "\n"
   ]
  },
  {
   "cell_type": "markdown",
   "metadata": {
    "colab_type": "text",
    "id": "wRDPYF7aDBiS"
   },
   "source": [
    "#### Summary\n",
    "This section explained how to create the more complex Image Slider component in Vue.\n",
    "\n",
    "Noticeable here are the lines of code. There is far more implementation necessary for Angular, Polymer, or the vanilla Web Component.\n",
    "\n",
    "Syntactical sugar here is the possibility to iterate over a range and to call functions inside the template with inline defined conditions."
   ]
  },
  {
   "cell_type": "markdown",
   "metadata": {
    "colab_type": "text",
    "id": "u0pbnu-BD-oE"
   },
   "source": [
    "## Chapter Summary and Outlook on the Preceding Chapters\n",
    "\n",
    "This chapter provided an introduction into Web Components. It explained how different components can be created and included into HTML web pages. Furthermore, a practical introduction on the creation of Web Components was provided. In this chapter was explained how to create a Progress Bar as simple Web Component and an Image Slider as a more complex Web Component.\n",
    "\n",
    "Additionally, it was explained how to create Web Components with the frameworks `Vue` and `Angular`, and the library `Polymer`. These creation processes were analyzed in this chapter.\n",
    "\n",
    "The upcoming chapters test the generated components from this chapter on performance."
   ]
  }
 ],
 "metadata": {
  "colab": {
   "collapsed_sections": [],
   "name": "chapter1_Webcomponents.ipynb",
   "provenance": [],
   "toc_visible": true,
   "version": "0.3.2"
  },
  "kernelspec": {
   "display_name": "Python 3",
   "language": "python",
   "name": "python3"
  },
  "language_info": {
   "codemirror_mode": {
    "name": "ipython",
    "version": 3
   },
   "file_extension": ".py",
   "mimetype": "text/x-python",
   "name": "python",
   "nbconvert_exporter": "python",
   "pygments_lexer": "ipython3",
   "version": "3.6.8"
  },
  "toc": {
   "base_numbering": 1,
   "nav_menu": {},
   "number_sections": true,
   "sideBar": true,
   "skip_h1_title": false,
   "title_cell": "Table of Contents",
   "title_sidebar": "Contents",
   "toc_cell": false,
   "toc_position": {},
   "toc_section_display": true,
   "toc_window_display": true
  }
 },
 "nbformat": 4,
 "nbformat_minor": 1
}
